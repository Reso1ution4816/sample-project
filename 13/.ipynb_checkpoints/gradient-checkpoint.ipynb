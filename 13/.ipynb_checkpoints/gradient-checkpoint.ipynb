{
 "cells": [
  {
   "cell_type": "markdown",
   "metadata": {},
   "source": [
    "# 梯度下降算法 Gradient Descent Algorithm"
   ]
  },
  {
   "cell_type": "markdown",
   "metadata": {},
   "source": [
    "果实值函数$ F({\\mathbf  {x}})$ 在点 $ \\mathbf {a} $ 处可微且有定义，那么函数 $ F({\\mathbf  {x}})$ 在 $ \\mathbf {a} $ 点沿着梯度相反的方向 $ -\\nabla F({\\mathbf  {a}}) $下降最快。"
   ]
  },
  {
   "cell_type": "code",
   "execution_count": 2,
   "metadata": {
    "collapsed": true
   },
   "outputs": [],
   "source": [
    "import numpy as np\n",
    "def batch_gradient_descent(alpha, x, y, n_iters=100):\n",
    "    m = x.shape[0] # number of samples\n",
    "    theta = np.ones(2)\n",
    "    x_transpose = x.transpose()\n",
    "    for iter in range(0, n_iters):\n",
    "        hypothesis = np.dot(x, theta)\n",
    "        loss = hypothesis - y\n",
    "        J = np.sum(loss ** 2) / (2 * m)  # cost\n",
    "        print(\"iter %s | J: %.3f\" % (iter, J))  \n",
    "        gradient = np.dot(x_transpose, loss) / m         \n",
    "        theta = theta - alpha * gradient  # update\n",
    "    return theta"
   ]
  }
 ],
 "metadata": {
  "kernelspec": {
   "display_name": "Python [conda root]",
   "language": "python",
   "name": "conda-root-py"
  },
  "language_info": {
   "codemirror_mode": {
    "name": "ipython",
    "version": 3
   },
   "file_extension": ".py",
   "mimetype": "text/x-python",
   "name": "python",
   "nbconvert_exporter": "python",
   "pygments_lexer": "ipython3",
   "version": "3.5.3"
  }
 },
 "nbformat": 4,
 "nbformat_minor": 2
}
