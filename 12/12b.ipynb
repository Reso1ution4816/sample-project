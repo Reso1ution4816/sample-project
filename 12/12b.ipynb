{
 "cells": [
  {
   "cell_type": "code",
   "execution_count": 1,
   "metadata": {},
   "outputs": [
    {
     "data": {
      "text/html": [
       "\n",
       "<style>\n",
       "\n",
       "        \n",
       "div.cell { /* Tunes the space between cells */\n",
       "    margin-top:1em;\n",
       "    margin-bottom:3em;\n",
       "}\n",
       "\n",
       "div.text_cell_render { /* Customize text cells */\n",
       "    font-family:  Times New Roman, Times, serif;\n",
       "    font-weight: 500;\n",
       "    font-size:1.2em;\n",
       "    line-height:1.2em;\n",
       "    padding-left:3em;\n",
       "    padding-right:3em;\n",
       "}\n",
       "</style>\n"
      ],
      "text/plain": [
       "<IPython.core.display.HTML object>"
      ]
     },
     "execution_count": 1,
     "metadata": {},
     "output_type": "execute_result"
    }
   ],
   "source": [
    "from IPython.core.display import HTML\n",
    "HTML(\"\"\"\n",
    "<style>\n",
    "\n",
    "        \n",
    "div.cell { /* Tunes the space between cells */\n",
    "    margin-top:1em;\n",
    "    margin-bottom:3em;\n",
    "}\n",
    "\n",
    "div.text_cell_render { /* Customize text cells */\n",
    "    font-family:  Times New Roman, Times, serif;\n",
    "    font-weight: 500;\n",
    "    font-size:1.2em;\n",
    "    line-height:1.2em;\n",
    "    padding-left:3em;\n",
    "    padding-right:3em;\n",
    "}\n",
    "</style>\n",
    "\"\"\")"
   ]
  },
  {
   "cell_type": "markdown",
   "metadata": {},
   "source": [
    "# 重构KNN"
   ]
  },
  {
   "cell_type": "markdown",
   "metadata": {},
   "source": [
    "前面我们接触的是函数式编程 (functional programming), 但在实际应用中, 通常大家会使用面向对象式的方式来实现算法."
   ]
  },
  {
   "cell_type": "markdown",
   "metadata": {},
   "source": [
    "## 描述"
   ]
  },
  {
   "cell_type": "markdown",
   "metadata": {},
   "source": [
    "用面向对象的方式重构knn算法, 构建一个类, 叫做`KNN`\n",
    "\n",
    "`KNN`具有三个属性: `k, X_train, y_train`\n",
    "\n",
    "`KNN`具有两个方法: `fit 和 predict`\n",
    "\n",
    "`fit` 有两个参数: `X_train` 和 `y_train`, 用来更新`KNN`的属性 `X_train, y_train`. 返回 `KNN`对象本身.\n",
    "\n",
    "`predict` 有一个参数: `X_test`, 在预测完 `X_test` 的标签(类别)后返回所有的预测值.\n",
    "\n"
   ]
  },
  {
   "cell_type": "markdown",
   "metadata": {},
   "source": [
    "## KNN类"
   ]
  },
  {
   "cell_type": "markdown",
   "metadata": {},
   "source": [
    "部分代码已经写好, 在提示的地方完成KNN类"
   ]
  },
  {
   "cell_type": "code",
   "execution_count": 24,
   "metadata": {},
   "outputs": [
    {
     "data": {
      "text/plain": [
       "array([False,  True], dtype=bool)"
      ]
     },
     "execution_count": 24,
     "metadata": {},
     "output_type": "execute_result"
    }
   ],
   "source": [
    "import numpy as np\n",
    "\n",
    "np.isclose([3.0, 10], [2.9, 10.00001], atol=1e-5 )"
   ]
  },
  {
   "cell_type": "code",
   "execution_count": 32,
   "metadata": {},
   "outputs": [],
   "source": [
    "import numpy as np\n",
    "\n",
    "def l2norm(u):\n",
    "    return np.sqrt(np.sum(u ** 2))\n",
    "\n",
    "\n",
    "def euclidean_dist(u, v):\n",
    "    return l2norm(u - v)\n",
    "\n",
    "\n",
    "def most_frequent(ar):\n",
    "    u, indices = np.unique(ar, return_inverse=True)\n",
    "    return u[np.argmax(np.bincount(indices))]\n",
    "\n",
    "class KNN:\n",
    "    def __init__(self, k=3):\n",
    "        self.k = k\n",
    "        self.X_train = None\n",
    "        self.y_train = None\n",
    "\n",
    "    def fit(self, X_train, y_train):\n",
    "        self.X_train = X_train\n",
    "        self.y_train = y_train\n",
    "        return self\n",
    "\n",
    "    def predict(self, X_test):\n",
    "        predictions = []\n",
    "        for i, unknown_sample in enumerate(X_test):\n",
    "            neighbours = []\n",
    "            for j, observed_sample in enumerate(self.X_train):\n",
    "                distance = euclidean_dist(unknown_sample, observed_sample)\n",
    "                neighbours.append([distance, self.y_train[j]])\n",
    "            neighbours = np.array(neighbours)\n",
    "            knn = neighbours[neighbours[:, 0].argsort()][:self.k]\n",
    "            predictions.append(most_frequent(knn[:, 1]))\n",
    "        return np.ravel(predictions)"
   ]
  },
  {
   "cell_type": "markdown",
   "metadata": {},
   "source": [
    "## 测试KNN类"
   ]
  },
  {
   "cell_type": "markdown",
   "metadata": {},
   "source": [
    "用下面的代码测试你的KNN类"
   ]
  },
  {
   "cell_type": "code",
   "execution_count": 33,
   "metadata": {},
   "outputs": [
    {
     "name": "stdout",
     "output_type": "stream",
     "text": [
      "accuracy=1.0\n"
     ]
    }
   ],
   "source": [
    "import numpy as np\n",
    "import pandas as pd\n",
    "from sklearn.model_selection import train_test_split\n",
    "\n",
    "# from sklearn.cross_validation import train_test_split\n",
    "iris = pd.read_csv('iris.csv', delimiter=',')\n",
    "\n",
    "X = iris[['Sepal length', 'Sepal width',\n",
    "          'Petal length', 'Petal width']].as_matrix()\n",
    "y = iris['Species'].as_matrix()\n",
    "\n",
    "# 分割数据集, 67%的用于训练, 33%的用于测试\n",
    "# X_train, X_test = 训练样本, 测试样本\n",
    "# y_train, y_test = 训练目标, 测试目标\n",
    "X_train, X_test, y_train, y_test = train_test_split(\n",
    "    X, y, test_size=0.33, random_state=42)\n",
    "\n",
    "knn = KNN(k=3)\n",
    "\n",
    "# 预测测试样本生成的目标: y_pred\n",
    "y_pred = knn.fit(X_train, y_train).predict(X_test)\n",
    "\n",
    "def accuracy(y_true, y_pred):\n",
    "    return np.sum(y_true == y_pred) / len(y_true)\n",
    "\n",
    "print('accuracy=%s' % accuracy(y_test, y_pred))"
   ]
  },
  {
   "cell_type": "markdown",
   "metadata": {},
   "source": [
    "# 可视化你的分类器"
   ]
  },
  {
   "cell_type": "code",
   "execution_count": 34,
   "metadata": {
    "collapsed": true
   },
   "outputs": [],
   "source": [
    "from matplotlib import pyplot as plt\n",
    "\n",
    "def plot_bounds2D(X, y, clf):\n",
    "    # create all pari-wise combinations of\n",
    "    # x0's possible values and x1's possible values\n",
    "    #\n",
    "    # read here for more details:\n",
    "    # https://stackoverflow.com/questions/36013063/what-is-purpose-of-meshgrid-in-python\n",
    "\n",
    "    d0_possible_values = np.arange(X[:, 0].min() - 1, X[:, 0].max() + 1, 0.1)\n",
    "    d1_possible_values = np.arange(X[:, 1].min() - 1, X[:, 1].max() + 1, 0.1)\n",
    "\n",
    "    d0, d1 = np.meshgrid(d0_possible_values, d1_possible_values)\n",
    "\n",
    "    # create data set with d0 and d1 as two columns\n",
    "    dots = np.c_[d0.ravel(), d1.ravel()]\n",
    "\n",
    "    # num. rows = 1, num. cols = 1, plotting 1st subplot\n",
    "    plt.subplot(1, 1, 1)\n",
    "\n",
    "    plt.subplots_adjust(wspace=0.6, hspace=0.4)\n",
    "    dots_predicted = clf.fit(X[:, [0, 1]], y).predict(dots)\n",
    "    \n",
    "    # convert possible string labels to numerical label for plotting\n",
    "    from sklearn.preprocessing import LabelEncoder\n",
    "    le = LabelEncoder().fit(dots_predicted)\n",
    "    coloured_dots = le.transform(dots_predicted)\n",
    "    \n",
    "    # Put the result into a color plot\n",
    "    coloured_dots = coloured_dots.reshape(d0.shape)\n",
    "    \n",
    "    plt.contourf(d0, d1, coloured_dots, cmap=plt.cm.coolwarm, alpha=0.8)\n",
    "#     plt.pcolormesh(d0, d1, coloured_dots, cmap=plt.cm.coolwarm)\n",
    "\n",
    "    # Plot also the training points\n",
    "    plt.xlim(d0.min(), d0.max())\n",
    "    plt.ylim(d1.min(), d1.max())\n",
    "\n",
    "    # plot the line, the points, and the nearest vectors to the plane\n",
    "    plt.xlabel('X[:, 0]')\n",
    "    plt.ylabel('X[:, 1]')\n",
    "\n",
    "    for yy in np.unique(y):\n",
    "        plt.scatter(x=X[:, 0][y == yy], y=X[:, 1][y == yy], label='y_train==' + str(yy))\n",
    "    plt.legend()"
   ]
  },
  {
   "cell_type": "code",
   "execution_count": 37,
   "metadata": {},
   "outputs": [
    {
     "data": {
      "image/png": "[encoded data removed]",
      "text/plain": [
       "<matplotlib.figure.Figure at 0x25191be9940>"
      ]
     },
     "metadata": {},
     "output_type": "display_data"
    }
   ],
   "source": [
    "from matplotlib import pyplot as plt\n",
    "plot_bounds2D(X[:,[0,1]], y, KNN(k=3))\n",
    "plt.show()"
   ]
  },
  {
   "cell_type": "code",
   "execution_count": 38,
   "metadata": {},
   "outputs": [
    {
     "data": {
      "image/png": "[encoded data removed]",
      "text/plain": [
       "<matplotlib.figure.Figure at 0x25191c43a58>"
      ]
     },
     "metadata": {},
     "output_type": "display_data"
    }
   ],
   "source": [
    "def normalise(x):\n",
    "    return (x - x.min(axis=0)) / (x.max(axis=0) - x.min(axis=0))\n",
    "\n",
    "Xn = normalise(X[:,[0,1]])\n",
    "plot_bounds2D(Xn, y, KNN(k=3))\n",
    "plt.show()"
   ]
  },
  {
   "cell_type": "markdown",
   "metadata": {},
   "source": [
    "## `sklearn` 的 KNN分类器"
   ]
  },
  {
   "cell_type": "code",
   "execution_count": 39,
   "metadata": {},
   "outputs": [
    {
     "data": {
      "image/png": "[encoded data removed]",
      "text/plain": [
       "<matplotlib.figure.Figure at 0x25191bbf1d0>"
      ]
     },
     "metadata": {},
     "output_type": "display_data"
    }
   ],
   "source": [
    "from sklearn.neighbors import KNeighborsClassifier\n",
    "\n",
    "plot_bounds2D(X[:,[0,1]], y, KNeighborsClassifier(3))\n",
    "plt.show()"
   ]
  },
  {
   "cell_type": "code",
   "execution_count": 40,
   "metadata": {},
   "outputs": [
    {
     "data": {
      "image/png": "[encoded data removed]",
      "text/plain": [
       "<matplotlib.figure.Figure at 0x25191d989e8>"
      ]
     },
     "metadata": {},
     "output_type": "display_data"
    }
   ],
   "source": [
    "from sklearn.neighbors import KNeighborsClassifier\n",
    "\n",
    "def normalise(x):\n",
    "    return (x - x.min(axis=0)) / (x.max(axis=0) - x.min(axis=0))\n",
    "\n",
    "Xn = normalise(X[:,[0,1]])\n",
    "plot_bounds2D(Xn, y, KNeighborsClassifier(3))\n",
    "plt.show()"
   ]
  },
  {
   "cell_type": "markdown",
   "metadata": {},
   "source": [
    "## `hstack`, `vstack`, `stack`"
   ]
  },
  {
   "cell_type": "code",
   "execution_count": 42,
   "metadata": {},
   "outputs": [
    {
     "data": {
      "text/plain": [
       "array([[ 0,  1,  2,  3],\n",
       "       [ 4,  5,  6,  7],\n",
       "       [ 8,  9, 10, 11]])"
      ]
     },
     "execution_count": 42,
     "metadata": {},
     "output_type": "execute_result"
    }
   ],
   "source": [
    "M = np.arange(12).reshape(3,4)\n",
    "M"
   ]
  },
  {
   "cell_type": "markdown",
   "metadata": {},
   "source": [
    "切割产生 1d ndarray"
   ]
  },
  {
   "cell_type": "code",
   "execution_count": 49,
   "metadata": {},
   "outputs": [
    {
     "data": {
      "text/plain": [
       "(1, 1)"
      ]
     },
     "execution_count": 49,
     "metadata": {},
     "output_type": "execute_result"
    }
   ],
   "source": [
    "m0 = M[:, 0]\n",
    "m1 = M[:, 1]\n",
    "m0.ndim, m1.ndim"
   ]
  },
  {
   "cell_type": "code",
   "execution_count": 63,
   "metadata": {},
   "outputs": [
    {
     "data": {
      "text/plain": [
       "array([0, 4, 8, 1, 5, 9])"
      ]
     },
     "execution_count": 63,
     "metadata": {},
     "output_type": "execute_result"
    }
   ],
   "source": [
    "np.hstack([m0, m1])"
   ]
  },
  {
   "cell_type": "code",
   "execution_count": 48,
   "metadata": {},
   "outputs": [
    {
     "data": {
      "text/plain": [
       "array([[0, 1],\n",
       "       [4, 5],\n",
       "       [8, 9]])"
      ]
     },
     "execution_count": 48,
     "metadata": {},
     "output_type": "execute_result"
    }
   ],
   "source": [
    "np.vstack([m0, m1]).T"
   ]
  },
  {
   "cell_type": "markdown",
   "metadata": {},
   "source": [
    "切割产生2d ndarray"
   ]
  },
  {
   "cell_type": "code",
   "execution_count": 52,
   "metadata": {},
   "outputs": [
    {
     "data": {
      "text/plain": [
       "(2, 2, 2)"
      ]
     },
     "execution_count": 52,
     "metadata": {},
     "output_type": "execute_result"
    }
   ],
   "source": [
    "M0 = M[:, [0, 1] ]\n",
    "M1 = M[:, [2, 3] ]\n",
    "M3 = M[:, [3] ]\n",
    "M0.ndim, M1.ndim, M3.ndim"
   ]
  },
  {
   "cell_type": "code",
   "execution_count": 57,
   "metadata": {},
   "outputs": [
    {
     "data": {
      "text/plain": [
       "(array([[0, 1],\n",
       "        [4, 5],\n",
       "        [8, 9]]), array([[ 2,  3],\n",
       "        [ 6,  7],\n",
       "        [10, 11]]))"
      ]
     },
     "execution_count": 57,
     "metadata": {},
     "output_type": "execute_result"
    }
   ],
   "source": [
    "M0, M1"
   ]
  },
  {
   "cell_type": "code",
   "execution_count": 56,
   "metadata": {},
   "outputs": [
    {
     "data": {
      "text/plain": [
       "array([[ 0,  1,  2,  3],\n",
       "       [ 4,  5,  6,  7],\n",
       "       [ 8,  9, 10, 11]])"
      ]
     },
     "execution_count": 56,
     "metadata": {},
     "output_type": "execute_result"
    }
   ],
   "source": [
    "np.hstack([M0, M1])"
   ]
  },
  {
   "cell_type": "code",
   "execution_count": 58,
   "metadata": {},
   "outputs": [
    {
     "data": {
      "text/plain": [
       "array([[ 0,  1],\n",
       "       [ 4,  5],\n",
       "       [ 8,  9],\n",
       "       [ 2,  3],\n",
       "       [ 6,  7],\n",
       "       [10, 11]])"
      ]
     },
     "execution_count": 58,
     "metadata": {},
     "output_type": "execute_result"
    }
   ],
   "source": [
    "np.vstack([M0, M1])"
   ]
  },
  {
   "cell_type": "code",
   "execution_count": 74,
   "metadata": {},
   "outputs": [
    {
     "data": {
      "text/plain": [
       "(3, 2)"
      ]
     },
     "execution_count": 74,
     "metadata": {},
     "output_type": "execute_result"
    }
   ],
   "source": [
    "M0.shape"
   ]
  },
  {
   "cell_type": "code",
   "execution_count": 73,
   "metadata": {},
   "outputs": [
    {
     "data": {
      "text/plain": [
       "(2, 3, 2)"
      ]
     },
     "execution_count": 73,
     "metadata": {},
     "output_type": "execute_result"
    }
   ],
   "source": [
    "np.stack([M0, M1], axis=0).shape"
   ]
  },
  {
   "cell_type": "code",
   "execution_count": 81,
   "metadata": {},
   "outputs": [
    {
     "data": {
      "text/plain": [
       "(2, 3)"
      ]
     },
     "execution_count": 81,
     "metadata": {},
     "output_type": "execute_result"
    }
   ],
   "source": [
    "np.stack([m0, m1], axis=0).shape"
   ]
  },
  {
   "cell_type": "markdown",
   "metadata": {},
   "source": [
    "## `LabelEncoder`, `bincount`, `argmax`"
   ]
  },
  {
   "cell_type": "code",
   "execution_count": 83,
   "metadata": {},
   "outputs": [
    {
     "data": {
      "text/plain": [
       "array([0, 1, 1, 0], dtype=int64)"
      ]
     },
     "execution_count": 83,
     "metadata": {},
     "output_type": "execute_result"
    }
   ],
   "source": [
    "from sklearn.preprocessing import LabelEncoder\n",
    "le = LabelEncoder().fit(['a', 'vvvv', 'ssss', 'ssss', 'a'])\n",
    "le.transform(['a', 'ssss', 'ssss', 'a'])"
   ]
  },
  {
   "cell_type": "code",
   "execution_count": 85,
   "metadata": {},
   "outputs": [
    {
     "data": {
      "text/plain": [
       "array(['vvvv', 'ssss', 'a'], \n",
       "      dtype='<U4')"
      ]
     },
     "execution_count": 85,
     "metadata": {},
     "output_type": "execute_result"
    }
   ],
   "source": [
    "le.inverse_transform([2, 1, 0])"
   ]
  },
  {
   "cell_type": "code",
   "execution_count": 86,
   "metadata": {},
   "outputs": [
    {
     "data": {
      "text/plain": [
       "array([0, 4, 3, 0, 0, 1], dtype=int64)"
      ]
     },
     "execution_count": 86,
     "metadata": {},
     "output_type": "execute_result"
    }
   ],
   "source": [
    "np.bincount([1,2,2,2,1,1,1,5])"
   ]
  },
  {
   "cell_type": "code",
   "execution_count": 87,
   "metadata": {},
   "outputs": [
    {
     "data": {
      "text/plain": [
       "1"
      ]
     },
     "execution_count": 87,
     "metadata": {},
     "output_type": "execute_result"
    }
   ],
   "source": [
    "np.argmax([0, 4, 3, 0, 0, 1])"
   ]
  }
 ],
 "metadata": {
  "kernelspec": {
   "display_name": "Python 3",
   "language": "python",
   "name": "python3"
  },
  "language_info": {
   "codemirror_mode": {
    "name": "ipython",
    "version": 3
   },
   "file_extension": ".py",
   "mimetype": "text/x-python",
   "name": "python",
   "nbconvert_exporter": "python",
   "pygments_lexer": "ipython3",
   "version": "3.6.4"
  }
 },
 "nbformat": 4,
 "nbformat_minor": 2
}
