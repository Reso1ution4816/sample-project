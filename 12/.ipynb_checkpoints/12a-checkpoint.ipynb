{
 "cells": [
  {
   "cell_type": "code",
   "execution_count": 1,
   "metadata": {},
   "outputs": [
    {
     "data": {
      "text/html": [
       "\n",
       "<style>\n",
       "\n",
       "        \n",
       "div.cell { /* Tunes the space between cells */\n",
       "    margin-top:1em;\n",
       "    margin-bottom:3em;\n",
       "}\n",
       "\n",
       "div.text_cell_render { /* Customize text cells */\n",
       "    font-family:  Times New Roman, Times, serif;\n",
       "    font-weight: 500;\n",
       "    font-size:1.2em;\n",
       "    line-height:1.2em;\n",
       "    padding-left:3em;\n",
       "    padding-right:3em;\n",
       "}\n",
       "</style>\n"
      ],
      "text/plain": [
       "<IPython.core.display.HTML object>"
      ]
     },
     "execution_count": 1,
     "metadata": {},
     "output_type": "execute_result"
    }
   ],
   "source": [
    "from IPython.core.display import HTML\n",
    "HTML(\"\"\"\n",
    "<style>\n",
    "\n",
    "        \n",
    "div.cell { /* Tunes the space between cells */\n",
    "    margin-top:1em;\n",
    "    margin-bottom:3em;\n",
    "}\n",
    "\n",
    "div.text_cell_render { /* Customize text cells */\n",
    "    font-family:  Times New Roman, Times, serif;\n",
    "    font-weight: 500;\n",
    "    font-size:1.2em;\n",
    "    line-height:1.2em;\n",
    "    padding-left:3em;\n",
    "    padding-right:3em;\n",
    "}\n",
    "</style>\n",
    "\"\"\")"
   ]
  },
  {
   "cell_type": "markdown",
   "metadata": {},
   "source": [
    "# 分类问题"
   ]
  },
  {
   "cell_type": "markdown",
   "metadata": {},
   "source": [
    "1. 用pandas 载入 iris 数据集\n",
    "\n",
    "1. 用train_test_split 把数据集分为 训练集 和 测试集\n",
    "\n",
    "1. 用前面实现的 knn 算法, 生成一个list of predictions, 包含测试集里每一个样本的预测值\n",
    "\n",
    "1. 计算预测正确率"
   ]
  },
  {
   "cell_type": "code",
   "execution_count": 20,
   "metadata": {
    "collapsed": true
   },
   "outputs": [],
   "source": [
    "import numpy as np\n",
    "\n",
    "def l2norm(u):\n",
    "    return np.sqrt(np.sum(u ** 2 ) )\n",
    "\n",
    "\n",
    "def euclidean_dist(u, v):\n",
    "    return l2norm(u - v)\n",
    "\n",
    "#             np.sqrt(np.sum((u - v) ** 2))\n",
    "\n",
    "\n",
    "def most_frequent(ar):\n",
    "    u, indices = np.unique(ar, return_inverse=True)\n",
    "    return u[np.argmax(np.bincount(indices))]\n",
    "\n",
    "def accuracy(y_true, y_pred):\n",
    "    return np.sum(y_true == y_pred) / len(y_true)\n",
    "\n",
    "from scipy.spatial.distance import euclidean\n",
    "\n",
    "\n",
    "from scipy.stats import mode\n",
    "\n",
    "def knn_predict(X_train, X_test, y_train, k=3):\n",
    "    predictions = []\n",
    "    for i, unknown_sample in enumerate(X_test):\n",
    "        neighbours = []\n",
    "        for j, observed_sample in enumerate(X_train):\n",
    "            distance = euclidean(unknown_sample, observed_sample)\n",
    "            assert(np.isclose(euclidean(unknown_sample, observed_sample), \n",
    "                             euclidean_dist(unknown_sample, observed_sample)))\n",
    "            neighbours.append([distance, y_train[j]])\n",
    "        neighbours = np.array(neighbours)\n",
    "        knn = neighbours[neighbours[:, 0].argsort()][:k]\n",
    "        predictions.append(most_frequent(knn[:, 1]))\n",
    "    return np.ravel(predictions)"
   ]
  },
  {
   "cell_type": "code",
   "execution_count": 23,
   "metadata": {},
   "outputs": [
    {
     "name": "stdout",
     "output_type": "stream",
     "text": [
      "accuracy=0.96\n"
     ]
    }
   ],
   "source": [
    "import numpy as np\n",
    "import pandas as pd\n",
    "from sklearn.model_selection import train_test_split\n",
    "from sklearn.neighbors import KNeighborsClassifier\n",
    "# from sklearn.cross_validation import train_test_split\n",
    "iris = pd.read_csv('iris.csv', delimiter=',')\n",
    "\n",
    "X = iris[['Sepal length', 'Sepal width',\n",
    "          'Petal length', 'Petal width']].as_matrix()\n",
    "y = iris['Species'].as_matrix()\n",
    "\n",
    "# 分割数据集, 67%的用于训练, 33%的用于测试\n",
    "# X_train, X_test = 训练样本, 测试样本\n",
    "# y_train, y_test = 训练目标, 测试目标\n",
    "\n",
    "# from sklearn.preprocessing import LabelEncoder\n",
    "# le = LabelEncoder().fit(y)\n",
    "# y = le.transform(y)\n",
    "\n",
    "X_train, X_test, y_train, y_test = train_test_split(\n",
    "        X, y, test_size=0.33, random_state=420)\n",
    "\n",
    "# 预测测试样本生成的目标: y_pred\n",
    "y_pred = knn_predict(X_train, X_test, y_train, k=3)\n",
    "# y_pred = KNeighborsClassifier(3).fit(X_train, y_train).predict(X_test)\n",
    "print('accuracy=%s' % accuracy(y_test, y_pred))"
   ]
  },
  {
   "cell_type": "markdown",
   "metadata": {},
   "source": [
    "## 测试不同的K"
   ]
  },
  {
   "cell_type": "code",
   "execution_count": 24,
   "metadata": {},
   "outputs": [
    {
     "name": "stdout",
     "output_type": "stream",
     "text": [
      "k=1, accuracy=0.96\n",
      "k=2, accuracy=0.96\n",
      "k=3, accuracy=0.96\n",
      "k=4, accuracy=0.96\n",
      "k=5, accuracy=0.96\n",
      "k=6, accuracy=0.98\n",
      "k=7, accuracy=0.96\n",
      "k=8, accuracy=0.96\n",
      "k=9, accuracy=0.96\n",
      "k=10, accuracy=0.96\n"
     ]
    }
   ],
   "source": [
    "for k in range(1, 11):\n",
    "    y_pred = knn_predict(X_train, X_test, y_train, k=k)\n",
    "    print('k=%s,' % k, 'accuracy=%s' % accuracy(y_test, y_pred))"
   ]
  },
  {
   "cell_type": "markdown",
   "metadata": {},
   "source": [
    "## 通过设置不同的random states来实现交叉检验"
   ]
  },
  {
   "cell_type": "code",
   "execution_count": 25,
   "metadata": {},
   "outputs": [
    {
     "name": "stdout",
     "output_type": "stream",
     "text": [
      "random states = [0, 1, 2, 3, 4, 5, 6, 7]\n",
      "Accuracy:\n",
      "[0.97999999999999998, 0.97999999999999998, 0.97999999999999998, 0.95999999999999996, 0.97999999999999998, 0.97999999999999998, 0.95999999999999996, 0.92000000000000004]\n"
     ]
    }
   ],
   "source": [
    "# 8个 random_states, 8次实验\n",
    "randsts = list(range(8))\n",
    "print('random states =', randsts)\n",
    "k=3\n",
    "\n",
    "acc = []\n",
    "\n",
    "for random_state in randsts:\n",
    "\n",
    "    X_train, X_test, y_train, y_test = train_test_split(\n",
    "    X, y, test_size=0.33, random_state=random_state)\n",
    "\n",
    "    y_pred = knn_predict(X_train, X_test, y_train, k=k)\n",
    "\n",
    "    acc.append(accuracy(y_test, y_pred))\n",
    "    \n",
    "print('Accuracy:')\n",
    "print(acc)"
   ]
  },
  {
   "cell_type": "markdown",
   "metadata": {},
   "source": [
    "## 通过交叉检验找到最合适的K"
   ]
  },
  {
   "cell_type": "code",
   "execution_count": 34,
   "metadata": {},
   "outputs": [
    {
     "data": {
      "text/plain": [
       "array([22034, 26732, 52132, 24623, 64271, 23805,  5037, 27775])"
      ]
     },
     "execution_count": 34,
     "metadata": {},
     "output_type": "execute_result"
    }
   ],
   "source": []
  },
  {
   "cell_type": "code",
   "execution_count": 44,
   "metadata": {
    "collapsed": true
   },
   "outputs": [],
   "source": [
    "dist = np.array([2, 2, 3, 4, 1])\n",
    "label = np.array(['b', 'b', 'b', 'a', 'a'])"
   ]
  },
  {
   "cell_type": "code",
   "execution_count": 51,
   "metadata": {},
   "outputs": [],
   "source": [
    "neighbour = np.vstack([dist, label]).T"
   ]
  },
  {
   "cell_type": "code",
   "execution_count": 45,
   "metadata": {},
   "outputs": [
    {
     "data": {
      "text/plain": [
       "array([4, 0, 1, 2, 3], dtype=int64)"
      ]
     },
     "execution_count": 45,
     "metadata": {},
     "output_type": "execute_result"
    }
   ],
   "source": [
    "dist.argsort()"
   ]
  },
  {
   "cell_type": "code",
   "execution_count": 47,
   "metadata": {},
   "outputs": [
    {
     "data": {
      "text/plain": [
       "array(['a', 'b', 'b', 'b', 'a'], \n",
       "      dtype='<U1')"
      ]
     },
     "execution_count": 47,
     "metadata": {},
     "output_type": "execute_result"
    }
   ],
   "source": [
    "label[[4, 0, 1, 2, 3]]"
   ]
  },
  {
   "cell_type": "code",
   "execution_count": 49,
   "metadata": {},
   "outputs": [
    {
     "data": {
      "text/plain": [
       "array(['a', 'b', 'b'], \n",
       "      dtype='<U1')"
      ]
     },
     "execution_count": 49,
     "metadata": {},
     "output_type": "execute_result"
    }
   ],
   "source": [
    "label[[4, 0, 1, 2, 3]][:3]"
   ]
  },
  {
   "cell_type": "code",
   "execution_count": 36,
   "metadata": {},
   "outputs": [
    {
     "name": "stdout",
     "output_type": "stream",
     "text": [
      "random states = [12686  3643 10573 20024 56183 13267 27975 62945 33659 59430 21165 11556\n",
      "  1145 30210 23728 27465 36010 12379 13789 36714 60083 26070 29841 58547\n",
      " 51505 64434 15056 49122 24331 28982 40319 13448]\n",
      "k=1, mean accuracy=0.94875\n",
      "k=2, mean accuracy=0.939375\n",
      "k=3, mean accuracy=0.95375\n",
      "k=4, mean accuracy=0.950625\n",
      "k=5, mean accuracy=0.956875\n",
      "k=6, mean accuracy=0.955\n",
      "k=7, mean accuracy=0.95875\n",
      "k=8, mean accuracy=0.95\n",
      "k=9, mean accuracy=0.95875\n",
      "k=10, mean accuracy=0.9525\n"
     ]
    }
   ],
   "source": [
    "import numpy as np\n",
    "from sklearn.model_selection import train_test_split\n",
    "\n",
    "all_scores = []\n",
    "\n",
    "# k 取 1 到 10\n",
    "ks = np.arange(1, 11)\n",
    "\n",
    "# 8个 random_states, 8次实验\n",
    "randsts = (np.random.rand(32)*65535).astype(int)\n",
    "print('random states =', randsts)\n",
    "\n",
    "for k in ks:\n",
    "    \n",
    "    acc = []\n",
    "    \n",
    "    for random_state in randsts:\n",
    "        \n",
    "        X_train, X_test, y_train, y_test = train_test_split(\n",
    "        X, y, test_size=0.33, random_state=random_state)\n",
    "        \n",
    "        y_pred = knn_predict(X_train, X_test, y_train, k=k)\n",
    "        \n",
    "        acc.append(accuracy(y_test, y_pred))\n",
    "    \n",
    "    all_scores.append(acc)\n",
    "    \n",
    "    print('k=%s,' % k, 'mean accuracy=%s' % np.mean(acc))"
   ]
  },
  {
   "cell_type": "markdown",
   "metadata": {},
   "source": [
    "## 归一化(normalisation)的效果"
   ]
  },
  {
   "cell_type": "code",
   "execution_count": 38,
   "metadata": {},
   "outputs": [
    {
     "name": "stdout",
     "output_type": "stream",
     "text": [
      "random states = [14260 30335   746 32305 20355 11224 49738 57188 24477 49627 50504 28958\n",
      " 34632 45784 25777  6041 53708 33461 11099 13793 44055 31916 19425 54947\n",
      " 41144 14629 58605 58850 19987  2602 57184 53515]\n",
      "k=3, mean accuracy=0.765\n",
      "k=5, mean accuracy=0.75875\n",
      "k=7, mean accuracy=0.76875\n"
     ]
    }
   ],
   "source": [
    "import numpy as np\n",
    "from sklearn.model_selection import train_test_split\n",
    "\n",
    "def normalise(x):\n",
    "    return (x - x.min(axis=0)) / (x.max(axis=0) - x.min(axis=0))\n",
    "\n",
    "# k 取 1 到 10\n",
    "ks = np.arange(1, 11)\n",
    "\n",
    "# 8个 random_states, 8次实验\n",
    "randsts = (np.random.rand(32)*65535).astype(int)\n",
    "print('random states =', randsts)\n",
    "\n",
    "for k in ks:\n",
    "    \n",
    "    acc = []\n",
    "    \n",
    "    for random_state in randsts:\n",
    "        \n",
    "        X_train, X_test, y_train, y_test = train_test_split(\n",
    "        normalise(X[:, [0,1]]), y, test_size=0.33, random_state=random_state)\n",
    "        \n",
    "        y_pred = knn_predict(X_train, X_test, y_train, k=k)\n",
    "        \n",
    "        acc.append(accuracy(y_test, y_pred))\n",
    "    \n",
    "    print('k=%s,' % k, 'mean accuracy=%s' % np.mean(acc))"
   ]
  },
  {
   "cell_type": "markdown",
   "metadata": {},
   "source": [
    "## 制图"
   ]
  },
  {
   "cell_type": "code",
   "execution_count": 39,
   "metadata": {},
   "outputs": [
    {
     "data": {
      "text/plain": [
       "(10, 32)"
      ]
     },
     "execution_count": 39,
     "metadata": {},
     "output_type": "execute_result"
    }
   ],
   "source": [
    "alls = np.array(all_scores)\n",
    "alls.shape"
   ]
  },
  {
   "cell_type": "code",
   "execution_count": 42,
   "metadata": {},
   "outputs": [
    {
     "data": {
      "image/png": "[encoded data removed]",
      "text/plain": [
       "<matplotlib.figure.Figure at 0x1ab46fd82e8>"
      ]
     },
     "metadata": {},
     "output_type": "display_data"
    }
   ],
   "source": [
    "from matplotlib import pyplot as plt\n",
    "# OR import matplotlib.pyplot as plt\n",
    "\n",
    "plt.suptitle('KNN')\n",
    "plt.boxplot(alls.T)\n",
    "plt.show()"
   ]
  },
  {
   "cell_type": "markdown",
   "metadata": {},
   "source": [
    "## 使用 `plt.figure` 实现更多制图功能"
   ]
  },
  {
   "cell_type": "code",
   "execution_count": 43,
   "metadata": {},
   "outputs": [
    {
     "data": {
      "image/png": "[encoded data removed]",
      "text/plain": [
       "<matplotlib.figure.Figure at 0x1ab46f94860>"
      ]
     },
     "metadata": {},
     "output_type": "display_data"
    }
   ],
   "source": [
    "from matplotlib import pyplot as plt\n",
    "fig = plt.figure()\n",
    "\n",
    "fig.suptitle('KNN')\n",
    "\n",
    "ax = fig.add_subplot(1, 1, 1)\n",
    "\n",
    "ax.set_title('Num. Cross Validation = %s' % len(randsts))\n",
    "\n",
    "ax.set_xlabel('K')\n",
    "\n",
    "ax.set_ylabel('Accuracy')\n",
    "\n",
    "ax.boxplot(alls.T)\n",
    "\n",
    "plt.show()"
   ]
  },
  {
   "cell_type": "markdown",
   "metadata": {},
   "source": [
    "## 添加均值线"
   ]
  },
  {
   "cell_type": "code",
   "execution_count": 62,
   "metadata": {},
   "outputs": [
    {
     "data": {
      "text/plain": [
       "(10, 32)"
      ]
     },
     "execution_count": 62,
     "metadata": {},
     "output_type": "execute_result"
    }
   ],
   "source": [
    "alls.shape"
   ]
  },
  {
   "cell_type": "code",
   "execution_count": 63,
   "metadata": {},
   "outputs": [
    {
     "data": {
      "text/plain": [
       "array([ 0.94875 ,  0.939375,  0.95375 ,  0.950625,  0.956875,  0.955   ,\n",
       "        0.95875 ,  0.95    ,  0.95875 ,  0.9525  ])"
      ]
     },
     "execution_count": 63,
     "metadata": {},
     "output_type": "execute_result"
    }
   ],
   "source": [
    "alls.mean(axis=1)"
   ]
  },
  {
   "cell_type": "code",
   "execution_count": 64,
   "metadata": {},
   "outputs": [
    {
     "data": {
      "image/png": "[encoded data removed]",
      "text/plain": [
       "<matplotlib.figure.Figure at 0x1ab46fad5f8>"
      ]
     },
     "metadata": {},
     "output_type": "display_data"
    }
   ],
   "source": [
    "from matplotlib import pyplot as plt\n",
    "fig = plt.figure()\n",
    "\n",
    "fig.suptitle('KNN')\n",
    "\n",
    "ax = fig.add_subplot(1, 1, 1)\n",
    "\n",
    "ax.set_title('Num. Cross Validation = %s' % len(randsts))\n",
    "\n",
    "ax.set_xlabel('K')\n",
    "\n",
    "ax.set_ylabel('Accuracy')\n",
    "\n",
    "ax.boxplot(alls.T, showmeans=True)\n",
    "\n",
    "ax.plot(ks, alls.mean(axis=1), label='mean accuracy')\n",
    "\n",
    "plt.legend()\n",
    "\n",
    "plt.show()"
   ]
  },
  {
   "cell_type": "markdown",
   "metadata": {},
   "source": [
    "## 制作两张子图, 改变图的尺寸"
   ]
  },
  {
   "cell_type": "code",
   "execution_count": 71,
   "metadata": {},
   "outputs": [
    {
     "data": {
      "image/png": "[encoded data removed]",
      "text/plain": [
       "<matplotlib.figure.Figure at 0x1ab46fd0128>"
      ]
     },
     "metadata": {},
     "output_type": "display_data"
    }
   ],
   "source": [
    "from matplotlib import pyplot as plt\n",
    "fig = plt.figure(figsize=(7,5), dpi=120)\n",
    "\n",
    "ax = fig.add_subplot(2, 1, 1)\n",
    "ax.set_title('Num. Cross Validation = %s' % len(randsts))\n",
    "ax.set_xlabel('K')\n",
    "ax.set_ylabel('accuracy')\n",
    "ax.boxplot(alls.T, showmeans=True)\n",
    "\n",
    "\n",
    "ax = fig.add_subplot(2, 1, 2)\n",
    "ax.set_title('Num. Cross Validation = %s' % len(randsts))\n",
    "ax.set_xlabel('K')\n",
    "ax.set_ylabel('mean accuracy')\n",
    "ax.plot(ks, alls.mean(axis=1))\n",
    "ax.set_xticks(np.arange(1,11))\n",
    "\n",
    "fig.tight_layout()\n",
    "\n",
    "plt.show()"
   ]
  }
 ],
 "metadata": {
  "kernelspec": {
   "display_name": "Python 3",
   "language": "python",
   "name": "python3"
  },
  "language_info": {
   "codemirror_mode": {
    "name": "ipython",
    "version": 3
   },
   "file_extension": ".py",
   "mimetype": "text/x-python",
   "name": "python",
   "nbconvert_exporter": "python",
   "pygments_lexer": "ipython3",
   "version": "3.6.4"
  }
 },
 "nbformat": 4,
 "nbformat_minor": 2
}
