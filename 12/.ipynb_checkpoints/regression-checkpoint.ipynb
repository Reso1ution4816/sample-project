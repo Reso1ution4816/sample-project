{
 "cells": [
  {
   "cell_type": "markdown",
   "metadata": {},
   "source": [
    "载入boston house price数据"
   ]
  },
  {
   "cell_type": "code",
   "execution_count": 1,
   "metadata": {},
   "outputs": [
    {
     "data": {
      "text/html": [
       "<div>\n",
       "<style>\n",
       "    .dataframe thead tr:only-child th {\n",
       "        text-align: right;\n",
       "    }\n",
       "\n",
       "    .dataframe thead th {\n",
       "        text-align: left;\n",
       "    }\n",
       "\n",
       "    .dataframe tbody tr th {\n",
       "        vertical-align: top;\n",
       "    }\n",
       "</style>\n",
       "<table border=\"1\" class=\"dataframe\">\n",
       "  <thead>\n",
       "    <tr style=\"text-align: right;\">\n",
       "      <th></th>\n",
       "      <th>CRIM</th>\n",
       "      <th>ZN</th>\n",
       "      <th>INDUS</th>\n",
       "      <th>CHAS</th>\n",
       "      <th>NOX</th>\n",
       "      <th>RM</th>\n",
       "      <th>AGE</th>\n",
       "      <th>DIS</th>\n",
       "      <th>RAD1</th>\n",
       "      <th>TAX1</th>\n",
       "      <th>PTRATIO1</th>\n",
       "      <th>B1</th>\n",
       "      <th>LSTAT1</th>\n",
       "      <th>MEDV</th>\n",
       "    </tr>\n",
       "  </thead>\n",
       "  <tbody>\n",
       "    <tr>\n",
       "      <th>0</th>\n",
       "      <td>0.00632</td>\n",
       "      <td>18.0</td>\n",
       "      <td>2.31</td>\n",
       "      <td>0.0</td>\n",
       "      <td>0.538</td>\n",
       "      <td>6.575</td>\n",
       "      <td>65.2</td>\n",
       "      <td>4.0900</td>\n",
       "      <td>0.0</td>\n",
       "      <td>296.0</td>\n",
       "      <td>15.3</td>\n",
       "      <td>396.90</td>\n",
       "      <td>4.98</td>\n",
       "      <td>24.0</td>\n",
       "    </tr>\n",
       "    <tr>\n",
       "      <th>1</th>\n",
       "      <td>0.02731</td>\n",
       "      <td>0.0</td>\n",
       "      <td>7.07</td>\n",
       "      <td>0.0</td>\n",
       "      <td>0.469</td>\n",
       "      <td>6.421</td>\n",
       "      <td>78.9</td>\n",
       "      <td>4.9671</td>\n",
       "      <td>2.0</td>\n",
       "      <td>242.0</td>\n",
       "      <td>17.8</td>\n",
       "      <td>396.90</td>\n",
       "      <td>9.14</td>\n",
       "      <td>21.6</td>\n",
       "    </tr>\n",
       "    <tr>\n",
       "      <th>2</th>\n",
       "      <td>0.02729</td>\n",
       "      <td>0.0</td>\n",
       "      <td>7.07</td>\n",
       "      <td>0.0</td>\n",
       "      <td>0.469</td>\n",
       "      <td>7.185</td>\n",
       "      <td>0.0</td>\n",
       "      <td>4.9671</td>\n",
       "      <td>2.0</td>\n",
       "      <td>242.0</td>\n",
       "      <td>17.8</td>\n",
       "      <td>392.83</td>\n",
       "      <td>4.03</td>\n",
       "      <td>34.7</td>\n",
       "    </tr>\n",
       "    <tr>\n",
       "      <th>3</th>\n",
       "      <td>0.03237</td>\n",
       "      <td>0.0</td>\n",
       "      <td>2.18</td>\n",
       "      <td>0.0</td>\n",
       "      <td>0.458</td>\n",
       "      <td>6.998</td>\n",
       "      <td>45.8</td>\n",
       "      <td>6.0622</td>\n",
       "      <td>3.0</td>\n",
       "      <td>0.0</td>\n",
       "      <td>18.7</td>\n",
       "      <td>394.63</td>\n",
       "      <td>2.94</td>\n",
       "      <td>33.4</td>\n",
       "    </tr>\n",
       "    <tr>\n",
       "      <th>4</th>\n",
       "      <td>0.06905</td>\n",
       "      <td>0.0</td>\n",
       "      <td>2.18</td>\n",
       "      <td>0.0</td>\n",
       "      <td>0.458</td>\n",
       "      <td>7.147</td>\n",
       "      <td>54.2</td>\n",
       "      <td>6.0622</td>\n",
       "      <td>3.0</td>\n",
       "      <td>222.0</td>\n",
       "      <td>18.7</td>\n",
       "      <td>396.90</td>\n",
       "      <td>5.33</td>\n",
       "      <td>36.2</td>\n",
       "    </tr>\n",
       "  </tbody>\n",
       "</table>\n",
       "</div>"
      ],
      "text/plain": [
       "      CRIM    ZN  INDUS  CHAS    NOX     RM   AGE     DIS  RAD1   TAX1  \\\n",
       "0  0.00632  18.0   2.31   0.0  0.538  6.575  65.2  4.0900   0.0  296.0   \n",
       "1  0.02731   0.0   7.07   0.0  0.469  6.421  78.9  4.9671   2.0  242.0   \n",
       "2  0.02729   0.0   7.07   0.0  0.469  7.185   0.0  4.9671   2.0  242.0   \n",
       "3  0.03237   0.0   2.18   0.0  0.458  6.998  45.8  6.0622   3.0    0.0   \n",
       "4  0.06905   0.0   2.18   0.0  0.458  7.147  54.2  6.0622   3.0  222.0   \n",
       "\n",
       "   PTRATIO1      B1  LSTAT1  MEDV  \n",
       "0      15.3  396.90    4.98  24.0  \n",
       "1      17.8  396.90    9.14  21.6  \n",
       "2      17.8  392.83    4.03  34.7  \n",
       "3      18.7  394.63    2.94  33.4  \n",
       "4      18.7  396.90    5.33  36.2  "
      ]
     },
     "execution_count": 1,
     "metadata": {},
     "output_type": "execute_result"
    }
   ],
   "source": [
    "import pandas as pd\n",
    "import numpy as np\n",
    "\n",
    "np.set_printoptions(precision=3) #将打印浮点数的精度设为小数点后3位\n",
    "boston = pd.read_csv('boston_housing_m.csv')\n",
    "boston_cols = boston.columns\n",
    "boston.head()"
   ]
  },
  {
   "cell_type": "code",
   "execution_count": 2,
   "metadata": {},
   "outputs": [
    {
     "data": {
      "text/plain": [
       "Index(['CRIM', 'ZN', 'INDUS', 'CHAS', 'NOX', 'RM', 'AGE', 'DIS', 'RAD1',\n",
       "       'TAX1', 'PTRATIO1', 'B1', 'LSTAT1', 'MEDV'],\n",
       "      dtype='object')"
      ]
     },
     "execution_count": 2,
     "metadata": {},
     "output_type": "execute_result"
    }
   ],
   "source": [
    "boston.columns"
   ]
  },
  {
   "cell_type": "code",
   "execution_count": 3,
   "metadata": {},
   "outputs": [
    {
     "name": "stdout",
     "output_type": "stream",
     "text": [
      "(506, 14)\n",
      "(506, 1) (506,) Index(['PTRATIO1', 'MEDV'], dtype='object')\n"
     ]
    }
   ],
   "source": [
    "bostonmtrx = boston.as_matrix()\n",
    "print(bostonmtrx.shape)\n",
    "selected_x_cols = [-4]\n",
    "x = bostonmtrx[:, selected_x_cols]\n",
    "y = bostonmtrx[:, -1]\n",
    "cols = boston_cols[selected_x_cols + [-1]]\n",
    "print(x.shape, y.shape, cols)"
   ]
  },
  {
   "cell_type": "markdown",
   "metadata": {},
   "source": [
    "target 是1d数组，取出前三个查看, 即y[[0,1,2]]\n",
    "data 是2d数组，维度不变，取出前三个查看"
   ]
  },
  {
   "cell_type": "code",
   "execution_count": 4,
   "metadata": {},
   "outputs": [
    {
     "name": "stdout",
     "output_type": "stream",
     "text": [
      "[ 24.   21.6  34.7]\n",
      "[[ 15.3]\n",
      " [ 17.8]\n",
      " [ 17.8]]\n"
     ]
    }
   ],
   "source": [
    "print(y[:3]) \n",
    "print(x[:3, :])"
   ]
  },
  {
   "cell_type": "code",
   "execution_count": 5,
   "metadata": {},
   "outputs": [
    {
     "name": "stdout",
     "output_type": "stream",
     "text": [
      "(2,)\n"
     ]
    },
    {
     "data": {
      "image/png": "[encoded data removed]",
      "text/plain": [
       "<matplotlib.figure.Figure at 0x255a7d07be0>"
      ]
     },
     "metadata": {},
     "output_type": "display_data"
    }
   ],
   "source": [
    "from scipy.stats import skew\n",
    "import matplotlib.pyplot as plt\n",
    "fig, axar = plt.subplots(nrows=1, ncols=2, figsize=(9,9), dpi=96)\n",
    "print(axar.shape)\n",
    "axar[0].hist(y)\n",
    "axar[1].boxplot(y)\n",
    "axar[0].set_title('%s skewness=%.2f' % (cols[-1], skew(y)))\n",
    "axar[1].set_title('min=%.2f med=%.2f max=%.2f' % (np.min(y), np.median(y), np.max(y)))\n",
    "fig.suptitle(cols[-1])\n",
    "plt.show()\n",
    "plt.clf()"
   ]
  },
  {
   "cell_type": "code",
   "execution_count": 6,
   "metadata": {},
   "outputs": [
    {
     "name": "stdout",
     "output_type": "stream",
     "text": [
      "[[0 1]]\n",
      "0 0 1\n"
     ]
    },
    {
     "data": {
      "text/plain": [
       "<matplotlib.figure.Figure at 0x255a8af5ef0>"
      ]
     },
     "metadata": {},
     "output_type": "display_data"
    },
    {
     "data": {
      "image/png": "[encoded data removed]",
      "text/plain": [
       "<matplotlib.figure.Figure at 0x255a87376d8>"
      ]
     },
     "metadata": {},
     "output_type": "display_data"
    }
   ],
   "source": [
    "def simplot(x,y,cols):\n",
    "    plot_idx_ = np.arange(x.shape[1] * 2).reshape(x.shape[1],2)\n",
    "    print(plot_idx_)\n",
    "    from scipy.stats import skew\n",
    "    plt.clf()\n",
    "    fig = plt.figure(figsize=(9,6))\n",
    "    for i, p in enumerate(plot_idx_):\n",
    "        p1, p2 = p\n",
    "        print(i, p1, p2)\n",
    "        ax0 = fig.add_subplot(x.shape[1], 2, p1 + 1)  #starts from 1 instead of 0\n",
    "        ax1 = fig.add_subplot(x.shape[1], 2, p2 + 1)\n",
    "        x_col = x[:, i]\n",
    "        ax0.hist(x_col)\n",
    "        ax1.boxplot(x_col)\n",
    "        skewness = skew(x_col)\n",
    "        name = cols[i]\n",
    "        ax0.set_title('dim%i, %s skewness=%.2f' % (i, name, skewness))\n",
    "        ax1.set_title('min=%.2f med=%.2f max=%.2f' % (np.min(x_col), np.median(x_col), np.max(x_col)))\n",
    "    plt.tight_layout()\n",
    "    plt.show()\n",
    "simplot(x,y,cols)"
   ]
  },
  {
   "cell_type": "code",
   "execution_count": 7,
   "metadata": {},
   "outputs": [
    {
     "name": "stdout",
     "output_type": "stream",
     "text": [
      "w of the linear function is \n",
      "[-0.528]\n",
      "b of the linear function is 32.02\n",
      "x_0 dot w_0 + b = 23.09, model output of x_0 is 23.09\n",
      "MSE by sklearn: 82.04\n",
      "MSE by me: 82.04\n",
      "MSE(negative) CV=5 : [ -38.12   -88.654 -148.154  -98.282  -78.553], mean=-90.35\n"
     ]
    },
    {
     "data": {
      "text/plain": [
       "<matplotlib.figure.Figure at 0x255a517ae48>"
      ]
     },
     "metadata": {},
     "output_type": "display_data"
    },
    {
     "data": {
      "image/png": "[encoded data removed]",
      "text/plain": [
       "<matplotlib.figure.Figure at 0x255a9001f60>"
      ]
     },
     "metadata": {},
     "output_type": "display_data"
    }
   ],
   "source": [
    "def testreg(x,y, cols, title=''):\n",
    "    from sklearn.metrics import mean_absolute_error\n",
    "    from sklearn.metrics import mean_squared_error\n",
    "    from sklearn.model_selection import train_test_split, cross_val_score\n",
    "    from sklearn.linear_model import LinearRegression\n",
    "    curx = x\n",
    "    cury = y\n",
    "\n",
    "    x_train, x_test, y_train, y_test = train_test_split(curx, cury, test_size=0.33, random_state=0)\n",
    "    lreg = LinearRegression() # 创建线性回归对象\n",
    "    lreg.fit(x_train, y_train) # 使用训练集训练模型\n",
    "    y_pred = lreg.predict(x_test) # 使用模型预测测试集\n",
    "    print('w of the linear function is \\n%s' % lreg.coef_)\n",
    "    print('b of the linear function is %0.2f' % lreg.intercept_)\n",
    "    y_pred0 = np.dot(x_test[0], lreg.coef_) + lreg.intercept_\n",
    "    print('x_0 dot w_0 + b = %0.2f, model output of x_0 is %0.2f' % (y_pred0, y_pred[0]))\n",
    "    # 比对测试集和预测的测试集\n",
    "    # mean squared error:\n",
    "    print(\"MSE by sklearn: %0.2f\" % mean_squared_error(y_test, y_pred))\n",
    "    print(\"MSE by me: %0.2f\" % np.mean(np.power([y_test - y_pred], 2)))\n",
    "    cvscore = cross_val_score(lreg, curx, cury, cv=5, scoring='neg_mean_squared_error')\n",
    "    np.random.seed(42) # keep each random run consistent\n",
    "    print(\"MSE(negative) CV=5 : %s, mean=%0.2f\" % (cvscore, np.mean(cvscore)))\n",
    "    plt.clf()\n",
    "    # Plot outputs\n",
    "    fig0 = plt.figure()\n",
    "    plt.suptitle(title)\n",
    "    ax = fig0.add_subplot(111)\n",
    "    ax.scatter(x_test, y_test,  color='black')\n",
    "    ax.plot(x_test, y_pred, color='blue', linewidth=3)\n",
    "    ax.set_xlabel(cols[0])\n",
    "    ax.set_ylabel(cols[-1])\n",
    "    plt.show()\n",
    "testreg(x,y,cols,'raw')"
   ]
  },
  {
   "cell_type": "code",
   "execution_count": 8,
   "metadata": {},
   "outputs": [
    {
     "name": "stdout",
     "output_type": "stream",
     "text": [
      "[[0 1]]\n",
      "0 0 1\n"
     ]
    },
    {
     "data": {
      "text/plain": [
       "<matplotlib.figure.Figure at 0x255a8afe940>"
      ]
     },
     "metadata": {},
     "output_type": "display_data"
    },
    {
     "data": {
      "text/plain": [
       "<matplotlib.figure.Figure at 0x255a8afefd0>"
      ]
     },
     "metadata": {},
     "output_type": "display_data"
    },
    {
     "data": {
      "image/png": "[encoded data removed]",
      "text/plain": [
       "<matplotlib.figure.Figure at 0x255a6281278>"
      ]
     },
     "metadata": {},
     "output_type": "display_data"
    },
    {
     "name": "stdout",
     "output_type": "stream",
     "text": [
      "(506, 1) (506, 1)\n",
      "w of the linear function is \n",
      "[-1.525]\n",
      "b of the linear function is 28.98\n",
      "x_0 dot w_0 + b = 22.71, model output of x_0 is 22.71\n",
      "MSE by sklearn: 82.13\n",
      "MSE by me: 82.13\n",
      "MSE(negative) CV=5 : [ -36.278  -93.271 -156.833  -98.038  -86.212], mean=-94.13\n"
     ]
    },
    {
     "data": {
      "text/plain": [
       "<matplotlib.figure.Figure at 0x255a8b1d080>"
      ]
     },
     "metadata": {},
     "output_type": "display_data"
    },
    {
     "data": {
      "image/png": "[encoded data removed]",
      "text/plain": [
       "<matplotlib.figure.Figure at 0x255a91a5978>"
      ]
     },
     "metadata": {},
     "output_type": "display_data"
    }
   ],
   "source": [
    "from scipy import stats\n",
    "new_x = []\n",
    "plt.clf()\n",
    "fig2 = plt.figure(figsize=(9, 9), dpi=96)\n",
    "for dim in range(x.shape[1]):\n",
    "    x_col = x[:,dim]\n",
    "    skewness = skew(x_col)\n",
    "    xt = x_col\n",
    "    if np.abs(skewness) >= 0.5:\n",
    "        #xt = np.log1p(x_col)\n",
    "        xt = np.sqrt(x_col)\n",
    "    new_x.append(xt)\n",
    "x_deskewed = np.vstack(new_x).T\n",
    "simplot(x_deskewed,y,cols)\n",
    "print(x.shape, x_deskewed.shape)\n",
    "testreg(x_deskewed,y,cols,'deskewed')"
   ]
  },
  {
   "cell_type": "code",
   "execution_count": 9,
   "metadata": {},
   "outputs": [
    {
     "name": "stdout",
     "output_type": "stream",
     "text": [
      "[[0 1]]\n",
      "0 0 1\n"
     ]
    },
    {
     "data": {
      "text/plain": [
       "<matplotlib.figure.Figure at 0x255a62832b0>"
      ]
     },
     "metadata": {},
     "output_type": "display_data"
    },
    {
     "data": {
      "image/png": "[encoded data removed]",
      "text/plain": [
       "<matplotlib.figure.Figure at 0x255a90decf8>"
      ]
     },
     "metadata": {},
     "output_type": "display_data"
    },
    {
     "name": "stdout",
     "output_type": "stream",
     "text": [
      "min values of x: [ 0.] [ 12.6]\n",
      "w of the linear function is \n",
      "[-2.377]\n",
      "b of the linear function is 66.81\n",
      "x_0 dot w_0 + b = 26.64, model output of x_0 is 26.64\n",
      "MSE by sklearn: 70.16\n",
      "MSE by me: 70.16\n",
      "MSE(negative) CV=5 : [-35.118 -95.324 -94.143 -85.022 -43.929], mean=-70.71\n"
     ]
    },
    {
     "data": {
      "text/plain": [
       "<matplotlib.figure.Figure at 0x255a91541d0>"
      ]
     },
     "metadata": {},
     "output_type": "display_data"
    },
    {
     "data": {
      "image/png": "[encoded data removed]",
      "text/plain": [
       "<matplotlib.figure.Figure at 0x255a9117860>"
      ]
     },
     "metadata": {},
     "output_type": "display_data"
    }
   ],
   "source": [
    "from sklearn.preprocessing import Imputer\n",
    "imp = Imputer(missing_values=0,  strategy=\"mean\", axis=0)\n",
    "x_imp = imp.fit(x).transform(x)\n",
    "simplot(x_imp,y,cols)\n",
    "print('min values of x: %s %s'%(np.min(x, axis=0), np.min(x_imp, axis=0)))\n",
    "testreg(x_imp,y,cols,'imputed 0 with mean')"
   ]
  },
  {
   "cell_type": "code",
   "execution_count": 10,
   "metadata": {},
   "outputs": [
    {
     "name": "stdout",
     "output_type": "stream",
     "text": [
      "[[0 1]]\n",
      "0 0 1\n"
     ]
    },
    {
     "data": {
      "text/plain": [
       "<matplotlib.figure.Figure at 0x255a914e1d0>"
      ]
     },
     "metadata": {},
     "output_type": "display_data"
    },
    {
     "data": {
      "text/plain": [
       "<matplotlib.figure.Figure at 0x255a90b1c18>"
      ]
     },
     "metadata": {},
     "output_type": "display_data"
    },
    {
     "data": {
      "image/png": "[encoded data removed]",
      "text/plain": [
       "<matplotlib.figure.Figure at 0x255a921ddd8>"
      ]
     },
     "metadata": {},
     "output_type": "display_data"
    },
    {
     "name": "stdout",
     "output_type": "stream",
     "text": [
      "(506, 1) (506, 1)\n",
      "w of the linear function is \n",
      "[-43.136]\n",
      "b of the linear function is 150.68\n",
      "x_0 dot w_0 + b = 26.24, model output of x_0 is 26.24\n",
      "MSE by sklearn: 70.51\n",
      "MSE by me: 70.51\n",
      "MSE(negative) CV=5 : [-35.296 -96.435 -94.22  -84.766 -45.153], mean=-71.17\n"
     ]
    },
    {
     "data": {
      "text/plain": [
       "<matplotlib.figure.Figure at 0x255a9080cf8>"
      ]
     },
     "metadata": {},
     "output_type": "display_data"
    },
    {
     "data": {
      "image/png": "[encoded data removed]",
      "text/plain": [
       "<matplotlib.figure.Figure at 0x255a888b320>"
      ]
     },
     "metadata": {},
     "output_type": "display_data"
    }
   ],
   "source": [
    "from scipy import stats\n",
    "new_x_imp = []\n",
    "plt.clf()\n",
    "fig2 = plt.figure(figsize=(9, 9), dpi=96)\n",
    "for dim in range(x.shape[1]):\n",
    "    x_col = x_imp[:,dim]\n",
    "    skewness = skew(x_col)\n",
    "    xt = x_col\n",
    "    if np.abs(skewness) >= 0.5:\n",
    "        xt = np.log1p(x_col)\n",
    "        #xt = np.sqrt(x_col)\n",
    "    new_x_imp.append(xt)\n",
    "x_deskewed_imp = np.vstack(new_x_imp).T\n",
    "simplot(x_deskewed_imp,y,cols)\n",
    "print(x.shape, x_deskewed_imp.shape)\n",
    "testreg(x_deskewed_imp,y,cols,'deskewed')"
   ]
  },
  {
   "cell_type": "code",
   "execution_count": 12,
   "metadata": {},
   "outputs": [
    {
     "ename": "NameError",
     "evalue": "name 'linear_model' is not defined",
     "output_type": "error",
     "traceback": [
      "\u001b[1;31m---------------------------------------------------------------------------\u001b[0m",
      "\u001b[1;31mNameError\u001b[0m                                 Traceback (most recent call last)",
      "\u001b[1;32m<ipython-input-12-64d4350b507a>\u001b[0m in \u001b[0;36m<module>\u001b[1;34m()\u001b[0m\n\u001b[0;32m      1\u001b[0m \u001b[1;32mfrom\u001b[0m \u001b[0msklearn\u001b[0m\u001b[1;33m.\u001b[0m\u001b[0mmodel_selection\u001b[0m \u001b[1;32mimport\u001b[0m \u001b[0mtrain_test_split\u001b[0m\u001b[1;33m\u001b[0m\u001b[0m\n\u001b[0;32m      2\u001b[0m \u001b[0mx_train\u001b[0m\u001b[1;33m,\u001b[0m \u001b[0mx_test\u001b[0m\u001b[1;33m,\u001b[0m \u001b[0my_train\u001b[0m\u001b[1;33m,\u001b[0m \u001b[0my_test\u001b[0m \u001b[1;33m=\u001b[0m \u001b[0mtrain_test_split\u001b[0m\u001b[1;33m(\u001b[0m\u001b[0mx\u001b[0m\u001b[1;33m,\u001b[0m \u001b[0my\u001b[0m\u001b[1;33m,\u001b[0m \u001b[0mtest_size\u001b[0m\u001b[1;33m=\u001b[0m\u001b[1;36m0.33\u001b[0m\u001b[1;33m,\u001b[0m \u001b[0mrandom_state\u001b[0m\u001b[1;33m=\u001b[0m\u001b[1;36m0\u001b[0m\u001b[1;33m)\u001b[0m\u001b[1;33m\u001b[0m\u001b[0m\n\u001b[1;32m----> 3\u001b[1;33m \u001b[0mridge\u001b[0m \u001b[1;33m=\u001b[0m \u001b[0mlinear_model\u001b[0m\u001b[1;33m.\u001b[0m\u001b[0mRidge\u001b[0m\u001b[1;33m(\u001b[0m\u001b[1;33m)\u001b[0m \u001b[1;31m# create linear regression object\u001b[0m\u001b[1;33m\u001b[0m\u001b[0m\n\u001b[0m\u001b[0;32m      4\u001b[0m \u001b[0mridge\u001b[0m\u001b[1;33m.\u001b[0m\u001b[0mfit\u001b[0m\u001b[1;33m(\u001b[0m\u001b[0mx_train\u001b[0m\u001b[1;33m,\u001b[0m \u001b[0my_train\u001b[0m\u001b[1;33m)\u001b[0m \u001b[1;31m# train the model using the training sets and test with testing sets\u001b[0m\u001b[1;33m\u001b[0m\u001b[0m\n\u001b[0;32m      5\u001b[0m \u001b[0my_pred\u001b[0m \u001b[1;33m=\u001b[0m \u001b[0mridge\u001b[0m\u001b[1;33m.\u001b[0m\u001b[0mpredict\u001b[0m\u001b[1;33m(\u001b[0m\u001b[0mx_test\u001b[0m\u001b[1;33m)\u001b[0m\u001b[1;33m\u001b[0m\u001b[0m\n",
      "\u001b[1;31mNameError\u001b[0m: name 'linear_model' is not defined"
     ]
    }
   ],
   "source": [
    "from sklearn.model_selection import train_test_split\n",
    "from sklearn.linear_model import Ridge\n",
    "x_train, x_test, y_train, y_test = train_test_split(x, y, test_size=0.33, random_state=0)\n",
    "ridge = Ridge() \n",
    "ridge.fit(x_train, y_train) # train the model using the training sets and test with testing sets\n",
    "y_pred = ridge.predict(x_test)\n",
    "print('w of the linear function is \\n%s' % ridge.coef_)\n",
    "print('b of the linear function is %0.2f' % ridge.intercept_)\n",
    "y_pred0 = np.dot(x_test[0], ridge.coef_) + ridge.intercept_\n",
    "print('x_0 dot w_0 + b = %0.2f, model output of x_0 is %0.2f' % (y_pred0, y_pred[0]))\n",
    "# mean squared error:\n",
    "print(\"MSE: %0.2f\" % np.mean(np.power([y_test - y_pred], 2)))"
   ]
  },
  {
   "cell_type": "code",
   "execution_count": null,
   "metadata": {},
   "outputs": [],
   "source": [
    "x_train, x_test, y_train, y_test = train_test_split(x, y, test_size=0.33, random_state=0)\n",
    "lreg = linear_model.LinearRegression() # create linear regression object\n",
    "lreg.fit(x_train, y_train) # train the model using the training sets and test with testing sets\n",
    "y_pred = lreg.predict(x_test)\n",
    "print('w of the linear function is \\n%s' % lreg.coef_)\n",
    "print('b of the linear function is %0.2f' % lreg.intercept_)"
   ]
  },
  {
   "cell_type": "code",
   "execution_count": null,
   "metadata": {},
   "outputs": [],
   "source": [
    "y_pred0 = np.dot(x_test[0], lreg.coef_) + lreg.intercept_\n",
    "print('x_0 dot w_0 + b = %0.2f, model output of x_0 is %0.2f' % (y_pred0, y_pred[0]))"
   ]
  },
  {
   "cell_type": "code",
   "execution_count": null,
   "metadata": {},
   "outputs": [],
   "source": [
    "# mean squared error:\n",
    "from sklearn.metrics import mean_squared_error\n",
    "print(\"MSE: %0.2f\" % np.mean(np.power([y_test - y_pred], 2)))\n",
    "print(\"MSE: %0.2f\" % mean_squared_error(y_test, y_pred))\n",
    "# rmse\n",
    "print(\"RMSE: %0.2f\" % np.sqrt(np.mean(np.power([y_test - y_pred], 2))))"
   ]
  },
  {
   "cell_type": "code",
   "execution_count": null,
   "metadata": {},
   "outputs": [],
   "source": [
    "import numpy as np\n",
    "import matplotlib.pyplot as plt\n",
    "from sklearn.pipeline import Pipeline\n",
    "from sklearn.preprocessing import PolynomialFeatures\n",
    "from sklearn.linear_model import LinearRegression\n",
    "from sklearn.model_selection import cross_val_score\n",
    "\n",
    "np.random.seed(0)\n",
    "\n",
    "n_samples = 30\n",
    "degrees = [1, 4, 15]\n",
    "true_fun = lambda X: np.cos(1.5 * np.pi * X)\n",
    "X = np.sort(np.random.rand(n_samples))\n",
    "y = true_fun(X) + np.random.randn(n_samples) * 0.1\n",
    "\n",
    "# plt.figure(figsize=(14, 5), dpi=200)\n",
    "plt.figure(figsize=(14, 5), dpi=200)\n",
    "for i in range(len(degrees)):\n",
    "    ax = plt.subplot(1, len(degrees), i + 1)\n",
    "    plt.setp(ax, xticks=(), yticks=())\n",
    "\n",
    "    polynomial_features = PolynomialFeatures(degree=degrees[i],\n",
    "                                             include_bias=False)\n",
    "    linear_regression = LinearRegression()\n",
    "    pipeline = Pipeline([(\"polynomial_features\", polynomial_features),\n",
    "                         (\"linear_regression\", linear_regression)])\n",
    "    pipeline.fit(X[:, np.newaxis], y)\n",
    "\n",
    "    # Evaluate the models using crossvalidation\n",
    "    scores = cross_val_score(pipeline, X[:, np.newaxis], y,\n",
    "                             scoring=\"neg_mean_squared_error\", cv=10)\n",
    "\n",
    "    X_test = np.linspace(0, 1, 100)\n",
    "    plt.plot(X_test, pipeline.predict(X_test[:, np.newaxis]), label=\"Model\")\n",
    "    plt.plot(X_test, true_fun(X_test), label=\"True function\")\n",
    "    plt.scatter(X, y, label=\"Samples\")\n",
    "    plt.xlabel(\"x\")\n",
    "    plt.ylabel(\"y\")\n",
    "    plt.xlim((0, 1))\n",
    "    plt.ylim((-2, 2))\n",
    "    plt.legend(loc=\"best\")\n",
    "    plt.title(\"Degree {}\\nMSE = {:.2e}(+/- {:.2e})\".format(\n",
    "        degrees[i], -scores.mean(), scores.std()))\n",
    "plt.show()"
   ]
  },
  {
   "cell_type": "code",
   "execution_count": null,
   "metadata": {
    "collapsed": true
   },
   "outputs": [],
   "source": []
  }
 ],
 "metadata": {
  "kernelspec": {
   "display_name": "Python [default]",
   "language": "python",
   "name": "python3"
  },
  "language_info": {
   "codemirror_mode": {
    "name": "ipython",
    "version": 3
   },
   "file_extension": ".py",
   "mimetype": "text/x-python",
   "name": "python",
   "nbconvert_exporter": "python",
   "pygments_lexer": "ipython3",
   "version": "3.5.3"
  }
 },
 "nbformat": 4,
 "nbformat_minor": 1
}
