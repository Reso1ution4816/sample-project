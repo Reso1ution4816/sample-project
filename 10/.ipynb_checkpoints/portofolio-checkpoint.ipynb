{
 "cells": [
  {
   "cell_type": "markdown",
   "metadata": {},
   "source": [
    "Assume you consider investing in two different assets. Their returns according to each state of the economy are provided in the table below in percentage term and the risk free rate is unknown:\n",
    "\n",
    "| Market Condition | Probability | R1  | R2| Rf |\n",
    "| ------------- |:-------------:| -----:|\n",
    "| Economic Exuberance      | 0.25 | 0.05 | 0.2 | ? |\n",
    "| Normal Conditions|    0.5 | 0.075| 0.15| ?|\n",
    "| Economics Stress |     0.25 |0.1 | 0.1| ?|\n",
    "\n",
    "1. Calculate the expected return and standard deviation for each investment separately.\n",
    "1. Calculate the covariance and correlation for assests 1 and 2.\n",
    "1. Calculate the expected return and standard deviation of a Portfolio composed by 50% of each asset.\n"
   ]
  },
  {
   "cell_type": "markdown",
   "metadata": {},
   "source": []
  },
  {
   "cell_type": "code",
   "execution_count": 25,
   "metadata": {
    "collapsed": true
   },
   "outputs": [],
   "source": [
    "import numpy as np\n",
    "\n",
    "p = np.array([0.25, 0.5, 0.25])\n",
    "r1 = np.array([0.05, 0.075, 0.1])\n",
    "r2 = np.array([0.2, 0.15, 0.1])\n",
    "weights = np.array([0.5, 0.5])"
   ]
  },
  {
   "cell_type": "code",
   "execution_count": 22,
   "metadata": {},
   "outputs": [
    {
     "data": {
      "text/plain": [
       "(0.075000000000000011, 0.14999999999999999, 0.1125)"
      ]
     },
     "execution_count": 22,
     "metadata": {},
     "output_type": "execute_result"
    }
   ],
   "source": [
    "er1 = (p * r1).sum()\n",
    "er2 = (p * r2).sum()\n",
    "\n",
    "portfolio = np.array([er1, er2])\n",
    "weights = np.array([0.5, 0.5])\n",
    "returns_portfolio = np.dot(weights, portfolio)\n",
    "\n",
    "er1, er2, returns_portfolio"
   ]
  },
  {
   "cell_type": "code",
   "execution_count": 24,
   "metadata": {},
   "outputs": [
    {
     "data": {
      "text/plain": [
       "(array([ 0.075,  0.15 ]), 0.1125)"
      ]
     },
     "execution_count": 24,
     "metadata": {},
     "output_type": "execute_result"
    }
   ],
   "source": [
    "r12 = np.vstack([[0.05, 0.075, 0.1], [0.2, 0.15, 0.1]])\n",
    "er = p.dot(r12.T)\n",
    "e_portfolio = weights.dot(er)\n",
    "er, e_portfolio"
   ]
  },
  {
   "cell_type": "code",
   "execution_count": 20,
   "metadata": {},
   "outputs": [
    {
     "data": {
      "text/plain": [
       "array([ 0.075,  0.15 ])"
      ]
     },
     "execution_count": 20,
     "metadata": {},
     "output_type": "execute_result"
    }
   ],
   "source": []
  },
  {
   "cell_type": "code",
   "execution_count": 21,
   "metadata": {},
   "outputs": [
    {
     "data": {
      "text/plain": [
       "0.1125"
      ]
     },
     "execution_count": 21,
     "metadata": {},
     "output_type": "execute_result"
    }
   ],
   "source": []
  },
  {
   "cell_type": "code",
   "execution_count": null,
   "metadata": {
    "collapsed": true
   },
   "outputs": [],
   "source": [
    "cov_matrix = returns_portfolio.cov()\n",
    "portfolio_volatility = returns_portfolio.std()"
   ]
  },
  {
   "cell_type": "markdown",
   "metadata": {},
   "source": [
    "1. 为什么要假设 risk free rate is unknown?\n",
    "\n",
    " 我看到这样的描述\n",
    "\n",
    " - In theory, the risk-free rate is the minimum return an investor expects for any investment because he will not accept additional risk unless the potential rate of return is greater than the risk-free rate.\n",
    "\n",
    "    In practice, however, the risk-free rate does not exist because even the safest investments carry a very small amount of risk. Thus, the interest rate on a three-month U.S. Treasury bill is often used as the risk-free rate for U.S.-based investors.\n",
    "\n",
    "    http://www.investopedia.com/terms/r/risk-freerate.asp\n",
    "<br><br>\n",
    " - 而且\n",
    "  Expected Return = Risk Free Return + Beta(Expected Market Return - Risk Free Return)\n",
    "<br><br>\n",
    " - 那么在这道题里, 假设 risk free rate is unknown, Expected Return = Expected Market Return\n",
    " \n",
    "     给定一个 stop loss, 或者假设stop loss 为 0, 就可以用这个式子算出上述R1 和 R2的 expected return\n",
    "\n",
    "     Expected return = [ (Probability of Gain) x (Take Profit % Gain) ] + [ (Probability of Loss) x (Stop Loss % Loss) ]\n",
    "\n",
    "     ref: http://www.investopedia.com/articles/trading/09/risk-management.asp\n",
    "<br><br>\n",
    "1. 那个Rf是指什么?\n",
    "<br><br>\n",
    "1. 你看看我下面写的对不对?"
   ]
  },
  {
   "cell_type": "markdown",
   "metadata": {},
   "source": [
    "Expected Return of a portfolio $R_p = \\{R_1, R_2, ..., R_N\\}$:\n",
    "\\begin{align}\n",
    " E(R_p) = \\sum_{i=1}^{N}w_i E(R_i)\n",
    "\\end{align}<br>\n",
    "where \n",
    "<br>\n",
    "$R_1, R_2, ..., R_N$ are assets <br>\n",
    "$w_1, w_2, ..., w_n$ are the corresponding weights<br>\n",
    "$E(\\cdot)$ is the expected return<br>\n",
    "<br><br>\n",
    "\n",
    "Variance of asset $R$:\n",
    "\\begin{align}\n",
    " Var(R) = \\sum_n Pr_n (R_n - E(R))^2\n",
    "\\end{align}<br>\n",
    "\n",
    "where: $P_n$ = probability of occurrence<br>\n",
    "$R_n$ = return in $n$ occurrence<br>\n",
    "$E(R)$ = expected return of $R$<br>\n",
    "Note: here the occurrence $\\in$ {Economic Exuberance, Normal Conditions, Economics Stress}\n",
    "\n",
    "<br>\n",
    "\n",
    "Standard Deviation = $\\sqrt{Var(R)}$\n",
    "\n"
   ]
  },
  {
   "cell_type": "code",
   "execution_count": 1,
   "metadata": {},
   "outputs": [
    {
     "data": {
      "text/html": [
       "<table>\n",
       "<tbody>\n",
       "<tr><td>Sun  </td><td style=\"text-align: right;\">696000</td><td style=\"text-align: right;\">   1.9891e+09</td></tr>\n",
       "<tr><td>Earth</td><td style=\"text-align: right;\">  6371</td><td style=\"text-align: right;\">5973.6       </td></tr>\n",
       "<tr><td>Moon </td><td style=\"text-align: right;\">  1737</td><td style=\"text-align: right;\">  73.5       </td></tr>\n",
       "<tr><td>Mars </td><td style=\"text-align: right;\">  3390</td><td style=\"text-align: right;\"> 641.85      </td></tr>\n",
       "</tbody>\n",
       "</table>"
      ],
      "text/plain": [
       "<IPython.core.display.HTML object>"
      ]
     },
     "metadata": {},
     "output_type": "display_data"
    }
   ],
   "source": [
    "from IPython.display import HTML, display\n",
    "import tabulate\n",
    "table = [[\"Sun\",696000,1989100000],\n",
    "         [\"Earth\",6371,5973.6],\n",
    "         [\"Moon\",1737,73.5],\n",
    "         [\"Mars\",3390,641.85]]\n",
    "display(HTML(tabulate.tabulate(table, tablefmt='html')))"
   ]
  },
  {
   "cell_type": "code",
   "execution_count": 3,
   "metadata": {
    "collapsed": true
   },
   "outputs": [],
   "source": [
    "ww.add('w')"
   ]
  },
  {
   "cell_type": "code",
   "execution_count": 4,
   "metadata": {},
   "outputs": [
    {
     "data": {
      "text/plain": [
       "{'w'}"
      ]
     },
     "execution_count": 4,
     "metadata": {},
     "output_type": "execute_result"
    }
   ],
   "source": [
    "ww"
   ]
  },
  {
   "cell_type": "code",
   "execution_count": 5,
   "metadata": {},
   "outputs": [
    {
     "data": {
      "text/plain": [
       "True"
      ]
     },
     "execution_count": 5,
     "metadata": {},
     "output_type": "execute_result"
    }
   ],
   "source": [
    "'w' is 'w'"
   ]
  },
  {
   "cell_type": "code",
   "execution_count": 38,
   "metadata": {},
   "outputs": [
    {
     "data": {
      "text/plain": [
       "array([[ 10,  20,  30,  40],\n",
       "       [ 50,  60,  70,  80],\n",
       "       [ 90, 100, 110, 120]])"
      ]
     },
     "execution_count": 38,
     "metadata": {},
     "output_type": "execute_result"
    }
   ],
   "source": [
    "a = np.arange(10, 121, 10).reshape(3,4)\n",
    "a"
   ]
  },
  {
   "cell_type": "code",
   "execution_count": 49,
   "metadata": {},
   "outputs": [
    {
     "data": {
      "text/plain": [
       "(3, 4)"
      ]
     },
     "execution_count": 49,
     "metadata": {},
     "output_type": "execute_result"
    }
   ],
   "source": [
    "a = np.array([[ 10,  20,  30,  40],\n",
    "              [ 50,  60,  70,  80],\n",
    "              [ 90, 100, 110, 120]])\n",
    "a.shape"
   ]
  },
  {
   "cell_type": "code",
   "execution_count": 48,
   "metadata": {},
   "outputs": [
    {
     "data": {
      "text/plain": [
       "array([150, 180, 210, 240])"
      ]
     },
     "execution_count": 48,
     "metadata": {},
     "output_type": "execute_result"
    }
   ],
   "source": [
    "a.sum(axis=0)"
   ]
  },
  {
   "cell_type": "code",
   "execution_count": 51,
   "metadata": {},
   "outputs": [
    {
     "data": {
      "text/plain": [
       "array([[[ 1,  2,  3,  4],\n",
       "        [ 5,  6,  7,  8],\n",
       "        [ 9, 10, 11, 12]],\n",
       "\n",
       "       [[13, 14, 15, 16],\n",
       "        [17, 18, 19, 20],\n",
       "        [21, 22, 23, 24]]])"
      ]
     },
     "execution_count": 51,
     "metadata": {},
     "output_type": "execute_result"
    }
   ],
   "source": [
    "a3d = np.arange(1, 25).reshape(2,3,4)\n",
    "a3d"
   ]
  },
  {
   "cell_type": "code",
   "execution_count": 55,
   "metadata": {},
   "outputs": [
    {
     "data": {
      "text/plain": [
       "array([[10, 26, 42],\n",
       "       [58, 74, 90]])"
      ]
     },
     "execution_count": 55,
     "metadata": {},
     "output_type": "execute_result"
    }
   ],
   "source": [
    "a3d.sum(axis=2)"
   ]
  },
  {
   "cell_type": "code",
   "execution_count": 53,
   "metadata": {
    "collapsed": true
   },
   "outputs": [],
   "source": [
    "np.sum?"
   ]
  },
  {
   "cell_type": "code",
   "execution_count": null,
   "metadata": {
    "collapsed": true
   },
   "outputs": [],
   "source": []
  }
 ],
 "metadata": {
  "kernelspec": {
   "display_name": "Python [conda root]",
   "language": "python",
   "name": "conda-root-py"
  },
  "language_info": {
   "codemirror_mode": {
    "name": "ipython",
    "version": 3
   },
   "file_extension": ".py",
   "mimetype": "text/x-python",
   "name": "python",
   "nbconvert_exporter": "python",
   "pygments_lexer": "ipython3",
   "version": "3.5.3"
  }
 },
 "nbformat": 4,
 "nbformat_minor": 2
}
