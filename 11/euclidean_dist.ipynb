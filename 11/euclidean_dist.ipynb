{
 "cells": [
  {
   "cell_type": "markdown",
   "metadata": {},
   "source": [
    "# Euclidean Distance"
   ]
  },
  {
   "cell_type": "markdown",
   "metadata": {},
   "source": [
    "Given a Cartesian coordinate system, the Eculidean distance between two vectors $\\textbf{u}$ and $\\textbf{v}$ is defined as: <br>\n",
    "\n",
    "\n",
    "\\begin{equation}\n",
    "d(\\textbf{u}, \\textbf{v}) = d(\\textbf{v}, \\textbf{u}) = \\sqrt{\\sum_{i=1}^{n} (\\textbf{u}_i - \\textbf{v}_i)^2}\n",
    "\\end{equation} <br>\n",
    "\n",
    "This is also known as $\\ell^2$ distance between $\\textbf{u}$ and $\\textbf{v}$, or the $\\ell^2$-norm of $\\textbf{u} - \\textbf{v}$:<br>\n",
    "\n",
    "\\begin{equation}\n",
    "\\| \\textbf{u} - \\textbf{v} \\|_2\n",
    "\\end{equation} <br>\n",
    "\n",
    "Implement Euclidean distance with Numpy"
   ]
  },
  {
   "cell_type": "code",
   "execution_count": 1,
   "metadata": {
    "collapsed": true
   },
   "outputs": [],
   "source": [
    "import numpy as np\n",
    "def euclidean_dist(u, v):\n",
    "    # write your code here\n",
    "    # return\n",
    "    pass\n",
    "    return np.sqrt(np.sum((u - v) ** 2))"
   ]
  },
  {
   "cell_type": "markdown",
   "metadata": {},
   "source": [
    "如果实现正确, 运行下方代码时不应该出现 AssertionError"
   ]
  },
  {
   "cell_type": "code",
   "execution_count": 4,
   "metadata": {},
   "outputs": [
    {
     "name": "stdout",
     "output_type": "stream",
     "text": [
      "Your implementation is correct.\n"
     ]
    }
   ],
   "source": [
    "import numpy as np\n",
    "from scipy.spatial.distance import euclidean\n",
    "for _ in range(10):\n",
    "    u = np.random.rand(50)\n",
    "    v = np.random.rand(50)\n",
    "    assert np.isclose(euclidean_dist(u, v), np.linalg.norm(u - v))\n",
    "    assert np.isclose(euclidean_dist(u, v), euclidean(u, v))\n",
    "print('Your implementation is correct.')"
   ]
  },
  {
   "cell_type": "code",
   "execution_count": null,
   "metadata": {
    "collapsed": true
   },
   "outputs": [],
   "source": []
  }
 ],
 "metadata": {
  "kernelspec": {
   "display_name": "Python [conda root]",
   "language": "python",
   "name": "conda-root-py"
  },
  "language_info": {
   "codemirror_mode": {
    "name": "ipython",
    "version": 3
   },
   "file_extension": ".py",
   "mimetype": "text/x-python",
   "name": "python",
   "nbconvert_exporter": "python",
   "pygments_lexer": "ipython3",
   "version": "3.5.3"
  }
 },
 "nbformat": 4,
 "nbformat_minor": 2
}
