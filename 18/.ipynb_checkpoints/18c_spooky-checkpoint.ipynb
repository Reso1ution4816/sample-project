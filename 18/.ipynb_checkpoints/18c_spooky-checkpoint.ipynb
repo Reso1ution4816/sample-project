{
 "cells": [
  {
   "cell_type": "code",
   "execution_count": 23,
   "metadata": {},
   "outputs": [
    {
     "data": {
      "text/plain": [
       "0    This process, however, afforded me no means of...\n",
       "1    It never once occurred to me that the fumbling...\n",
       "2    In his left hand was a gold snuff box, from wh...\n",
       "3    How lovely is spring As we looked from Windsor...\n",
       "4    Finding nothing else, not even gold, the Super...\n",
       "Name: text, dtype: object"
      ]
     },
     "execution_count": 23,
     "metadata": {},
     "output_type": "execute_result"
    }
   ],
   "source": [
    "import pandas as pd\n",
    "\n",
    "spooky = pd.read_csv('spooky.csv')\n",
    "text = spooky['text']\n",
    "text.head()"
   ]
  },
  {
   "cell_type": "code",
   "execution_count": 5,
   "metadata": {},
   "outputs": [
    {
     "data": {
      "text/plain": [
       "(False, True, False)"
      ]
     },
     "execution_count": 5,
     "metadata": {},
     "output_type": "execute_result"
    }
   ],
   "source": [
    "'2'.isalpha(), 'a'.isalpha(), ','.isalpha()"
   ]
  },
  {
   "cell_type": "code",
   "execution_count": 10,
   "metadata": {},
   "outputs": [
    {
     "data": {
      "text/html": [
       "<div>\n",
       "<style>\n",
       "    .dataframe thead tr:only-child th {\n",
       "        text-align: right;\n",
       "    }\n",
       "\n",
       "    .dataframe thead th {\n",
       "        text-align: left;\n",
       "    }\n",
       "\n",
       "    .dataframe tbody tr th {\n",
       "        vertical-align: top;\n",
       "    }\n",
       "</style>\n",
       "<table border=\"1\" class=\"dataframe\">\n",
       "  <thead>\n",
       "    <tr style=\"text-align: right;\">\n",
       "      <th></th>\n",
       "      <th>col1</th>\n",
       "      <th>col2</th>\n",
       "    </tr>\n",
       "  </thead>\n",
       "  <tbody>\n",
       "    <tr>\n",
       "      <th>0</th>\n",
       "      <td>0</td>\n",
       "      <td>1</td>\n",
       "    </tr>\n",
       "    <tr>\n",
       "      <th>1</th>\n",
       "      <td>2</td>\n",
       "      <td>3</td>\n",
       "    </tr>\n",
       "    <tr>\n",
       "      <th>2</th>\n",
       "      <td>4</td>\n",
       "      <td>5</td>\n",
       "    </tr>\n",
       "    <tr>\n",
       "      <th>3</th>\n",
       "      <td>6</td>\n",
       "      <td>7</td>\n",
       "    </tr>\n",
       "    <tr>\n",
       "      <th>4</th>\n",
       "      <td>8</td>\n",
       "      <td>9</td>\n",
       "    </tr>\n",
       "    <tr>\n",
       "      <th>5</th>\n",
       "      <td>10</td>\n",
       "      <td>11</td>\n",
       "    </tr>\n",
       "    <tr>\n",
       "      <th>6</th>\n",
       "      <td>12</td>\n",
       "      <td>13</td>\n",
       "    </tr>\n",
       "    <tr>\n",
       "      <th>7</th>\n",
       "      <td>14</td>\n",
       "      <td>15</td>\n",
       "    </tr>\n",
       "    <tr>\n",
       "      <th>8</th>\n",
       "      <td>16</td>\n",
       "      <td>17</td>\n",
       "    </tr>\n",
       "    <tr>\n",
       "      <th>9</th>\n",
       "      <td>18</td>\n",
       "      <td>19</td>\n",
       "    </tr>\n",
       "  </tbody>\n",
       "</table>\n",
       "</div>"
      ],
      "text/plain": [
       "   col1  col2\n",
       "0     0     1\n",
       "1     2     3\n",
       "2     4     5\n",
       "3     6     7\n",
       "4     8     9\n",
       "5    10    11\n",
       "6    12    13\n",
       "7    14    15\n",
       "8    16    17\n",
       "9    18    19"
      ]
     },
     "execution_count": 10,
     "metadata": {},
     "output_type": "execute_result"
    }
   ],
   "source": [
    "import numpy as np\n",
    "df = pd.DataFrame(data=np.arange(20).reshape(10,2), columns=['col1', 'col2'])\n",
    "df"
   ]
  },
  {
   "cell_type": "code",
   "execution_count": 12,
   "metadata": {},
   "outputs": [
    {
     "data": {
      "text/plain": [
       "0      1\n",
       "1      9\n",
       "2     25\n",
       "3     49\n",
       "4     81\n",
       "5    121\n",
       "6    169\n",
       "7    225\n",
       "8    289\n",
       "9    361\n",
       "Name: col2, dtype: int64"
      ]
     },
     "execution_count": 12,
     "metadata": {},
     "output_type": "execute_result"
    }
   ],
   "source": [
    "df['col2'].apply(lambda x: x**2)"
   ]
  },
  {
   "cell_type": "markdown",
   "metadata": {},
   "source": [
    "由于 `str.split()` 每次只能按某个特定的字符分割, 所以我没想把非字母字符替换成空格"
   ]
  },
  {
   "cell_type": "code",
   "execution_count": 6,
   "metadata": {},
   "outputs": [
    {
     "data": {
      "text/plain": [
       "{'\"', \"'\", ',', '.', ':', ';', '?'}"
      ]
     },
     "execution_count": 6,
     "metadata": {},
     "output_type": "execute_result"
    }
   ],
   "source": [
    "toreplace = set()\n",
    "for string in text:\n",
    "    for char in string:\n",
    "        if not (char.isalpha() or char == ' '):\n",
    "            toreplace.add(char)\n",
    "toreplace"
   ]
  },
  {
   "cell_type": "code",
   "execution_count": 24,
   "metadata": {},
   "outputs": [
    {
     "data": {
      "text/plain": [
       "0    [This, process, however, afforded, me, no, mea...\n",
       "1    [It, never, once, occurred, to, me, that, the,...\n",
       "2    [In, his, left, hand, was, a, gold, snuff, box...\n",
       "3    [How, lovely, is, spring, As, we, looked, from...\n",
       "4    [Finding, nothing, else, not, even, gold, the,...\n",
       "Name: text, dtype: object"
      ]
     },
     "execution_count": 24,
     "metadata": {},
     "output_type": "execute_result"
    }
   ],
   "source": [
    "def replace_all(string, toreplace, replace_to):\n",
    "    for char in toreplace:\n",
    "        string = string.replace(char, replace_to)\n",
    "    return string\n",
    "\n",
    "text = text.apply(lambda x: replace_all(x, toreplace, ' ').split())\n",
    "text.head()"
   ]
  },
  {
   "cell_type": "code",
   "execution_count": 29,
   "metadata": {},
   "outputs": [
    {
     "data": {
      "text/plain": [
       "25095"
      ]
     },
     "execution_count": 29,
     "metadata": {},
     "output_type": "execute_result"
    }
   ],
   "source": [
    "words = set()\n",
    "for line in text:\n",
    "    for word in line:\n",
    "        words.add(word.lower())\n",
    "words = list(words)\n",
    "len(words)"
   ]
  },
  {
   "cell_type": "code",
   "execution_count": 35,
   "metadata": {},
   "outputs": [
    {
     "data": {
      "text/plain": [
       "0    {'seemed': 1, 'perfectly': 1, 'wall': 1, 'to':...\n",
       "1    {'never': 1, 'It': 1, 'mistake': 1, 'to': 1, '...\n",
       "2    {'hill': 1, 'all': 1, 'self': 1, 'steps': 1, '...\n",
       "3    {'spread': 1, 'towns': 1, 'lovely': 1, 'former...\n",
       "4    {'occasionally': 1, 'abandoned': 1, 'countenan...\n",
       "Name: text, dtype: object"
      ]
     },
     "execution_count": 35,
     "metadata": {},
     "output_type": "execute_result"
    }
   ],
   "source": [
    "def word_count(li):\n",
    "    count = {}\n",
    "    for word in li:\n",
    "        if word in count.keys():\n",
    "            count[word] += 1\n",
    "        else:\n",
    "            count[word] = 1\n",
    "    return count\n",
    "            \n",
    "text_freq = text.apply(lambda x: word_count(x))\n",
    "text_freq.head()"
   ]
  },
  {
   "cell_type": "markdown",
   "metadata": {},
   "source": [
    "`X` represents word vectors"
   ]
  },
  {
   "cell_type": "code",
   "execution_count": null,
   "metadata": {
    "collapsed": true
   },
   "outputs": [],
   "source": [
    "X = pd.DataFrame(data=0, index=text.index, columns=words)\n",
    "X.head()"
   ]
  },
  {
   "cell_type": "code",
   "execution_count": null,
   "metadata": {
    "collapsed": true
   },
   "outputs": [],
   "source": [
    "for row_i in X.index:\n",
    "    count = text_freq.loc[row_i]\n",
    "    for word, counts in count.items():\n",
    "        X.loc[row_i, word] = counts\n",
    "        \n",
    "X.head()"
   ]
  },
  {
   "cell_type": "markdown",
   "metadata": {},
   "source": [
    "`str.split()` 与 `str.split(' ')`"
   ]
  },
  {
   "cell_type": "code",
   "execution_count": 13,
   "metadata": {},
   "outputs": [
    {
     "data": {
      "text/plain": [
       "['a', 'b', 'c']"
      ]
     },
     "execution_count": 13,
     "metadata": {},
     "output_type": "execute_result"
    }
   ],
   "source": [
    "'a   b c'.split()"
   ]
  },
  {
   "cell_type": "code",
   "execution_count": 14,
   "metadata": {},
   "outputs": [
    {
     "data": {
      "text/plain": [
       "['a', '', '', 'b', 'c']"
      ]
     },
     "execution_count": 14,
     "metadata": {},
     "output_type": "execute_result"
    }
   ],
   "source": [
    "'a   b c'.split(' ')"
   ]
  },
  {
   "cell_type": "code",
   "execution_count": 63,
   "metadata": {},
   "outputs": [
    {
     "data": {
      "text/plain": [
       "array(['hers', 'between', 'yourself', 'but', 'again', 'there', 'about',\n",
       "       'once', 'during', 'out', 'very', 'having', 'with', 'they', 'own',\n",
       "       'an', 'be', 'some', 'for', 'do', 'its', 'yours', 'such', 'into',\n",
       "       'of', 'most', 'itself', 'other', 'off', 'is', 's', 'am', 'or',\n",
       "       'who', 'as', 'from', 'him', 'each', 'the', 'themselves', 'until',\n",
       "       'below', 'are', 'we', 'these', 'your', 'his', 'through', 'don',\n",
       "       'nor', 'me', 'were', 'her', 'more', 'himself', 'this', 'down',\n",
       "       'should', 'our', 'their', 'while', 'above', 'both', 'up', 'to',\n",
       "       'ours', 'had', 'she', 'all', 'no', 'when', 'at', 'any', 'before',\n",
       "       'them', 'same', 'and', 'been', 'have', 'in', 'will', 'on', 'does',\n",
       "       'yourselves', 'then', 'that', 'because', 'what', 'over', 'why',\n",
       "       'so', 'can', 'did', 'not', 'now', 'under', 'he', 'you', 'herself',\n",
       "       'has', 'just', 'where', 'too', 'only', 'myself', 'which', 'those',\n",
       "       'i', 'after', 'few', 'whom', 't', 'being', 'if', 'theirs', 'my',\n",
       "       'against', 'a', 'by', 'doing', 'it', 'how', 'further', 'was',\n",
       "       'here', 'than'], dtype=object)"
      ]
     },
     "execution_count": 63,
     "metadata": {},
     "output_type": "execute_result"
    }
   ],
   "source": [
    "stopwords = np.ravel(pd.read_csv('stopwords.csv').values)\n",
    "stopwords"
   ]
  }
 ],
 "metadata": {
  "kernelspec": {
   "display_name": "Python [conda root]",
   "language": "python",
   "name": "conda-root-py"
  },
  "language_info": {
   "codemirror_mode": {
    "name": "ipython",
    "version": 3
   },
   "file_extension": ".py",
   "mimetype": "text/x-python",
   "name": "python",
   "nbconvert_exporter": "python",
   "pygments_lexer": "ipython3",
   "version": "3.5.3"
  }
 },
 "nbformat": 4,
 "nbformat_minor": 2
}
